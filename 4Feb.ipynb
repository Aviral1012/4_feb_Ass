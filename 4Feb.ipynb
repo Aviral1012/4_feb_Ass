{
 "cells": [
  {
   "cell_type": "code",
   "execution_count": 31,
   "id": "0e86f08e-7845-4d68-b7f2-8eb57314c00b",
   "metadata": {},
   "outputs": [
    {
     "name": "stdout",
     "output_type": "stream",
     "text": [
      "[('Virat Kohli', 24936), ('Jack Kallis', 25534), ('Ricky Ponting', 27483), ('Sachin Tendulkar', 34357)]\n"
     ]
    }
   ],
   "source": [
    "                                                         #SOLUTION 1\n",
    "\n",
    "l=[('Sachin Tendulkar', 34357), ('Ricky Ponting', 27483), ('Jack Kallis', 25534), ('Virat Kohli', 24936)]\n",
    "l.sort(key=lambda x:x[1])\n",
    "print(l)"
   ]
  },
  {
   "cell_type": "code",
   "execution_count": 7,
   "id": "6506a267-8d0e-4809-a1d7-a7ee6ceb62d1",
   "metadata": {},
   "outputs": [
    {
     "name": "stdout",
     "output_type": "stream",
     "text": [
      "[1, 4, 9, 16, 25, 36, 49, 64, 81, 100]\n"
     ]
    }
   ],
   "source": [
    "                                                         #SOLUTION 2\n",
    "\n",
    "s=[1,2,3,4,5,6,7,8,9,10]\n",
    "print(list(map(lambda x:x**2,s)))"
   ]
  },
  {
   "cell_type": "code",
   "execution_count": 8,
   "id": "05d851ed-d5cc-42a1-9f5c-280db018d64f",
   "metadata": {},
   "outputs": [
    {
     "name": "stdout",
     "output_type": "stream",
     "text": [
      "('1', '2', '3', '4', '5', '6', '7', '8', '9', '10')\n"
     ]
    }
   ],
   "source": [
    "                                                         #SOLUTION 3\n",
    "s=[1,2,3,4,5,6,7,8,9,10]\n",
    "print(tuple(map(lambda x:str(x),s)))\n"
   ]
  },
  {
   "cell_type": "code",
   "execution_count": 10,
   "id": "649bb5e8-922b-4385-ac36-1a69919614d6",
   "metadata": {},
   "outputs": [
    {
     "data": {
      "text/plain": [
       "15511210043330985984000000"
      ]
     },
     "execution_count": 10,
     "metadata": {},
     "output_type": "execute_result"
    }
   ],
   "source": [
    "                                                        #SOLUTION 4\n",
    "l1=[]\n",
    "for i in range(1,26):\n",
    "    l1.append(i)\n",
    "from functools import reduce\n",
    "reduce(lambda x,y:x*y,l1)\n"
   ]
  },
  {
   "cell_type": "code",
   "execution_count": 18,
   "id": "14ec9b26-d76e-4688-bc0b-7cb15edf474e",
   "metadata": {},
   "outputs": [
    {
     "name": "stdout",
     "output_type": "stream",
     "text": [
      "[6, 60, 90, 120]\n"
     ]
    }
   ],
   "source": [
    "                                                       #SOLUTION 5\n",
    "\n",
    "l=[2, 3, 6, 9, 27, 60, 90, 120, 55, 46]\n",
    "print(list(filter(lambda x:x%2==0 and x%3==0,l)))"
   ]
  },
  {
   "cell_type": "code",
   "execution_count": 20,
   "id": "81e9dee4-7bc7-4ca1-97b8-fe47762c0631",
   "metadata": {},
   "outputs": [
    {
     "name": "stdout",
     "output_type": "stream",
     "text": [
      "['php', 'aba', 'radar', 'level']\n"
     ]
    }
   ],
   "source": [
    "                                                       #SOLUTION 6\n",
    "\n",
    "l=['python', 'php', 'aba', 'radar', 'level']\n",
    "print(list(filter(lambda x:x==x[::-1],l)))"
   ]
  },
  {
   "cell_type": "code",
   "execution_count": null,
   "id": "6ab0e066-8855-4356-a74e-e315e73beb38",
   "metadata": {},
   "outputs": [],
   "source": []
  }
 ],
 "metadata": {
  "kernelspec": {
   "display_name": "Python 3 (ipykernel)",
   "language": "python",
   "name": "python3"
  },
  "language_info": {
   "codemirror_mode": {
    "name": "ipython",
    "version": 3
   },
   "file_extension": ".py",
   "mimetype": "text/x-python",
   "name": "python",
   "nbconvert_exporter": "python",
   "pygments_lexer": "ipython3",
   "version": "3.10.6"
  }
 },
 "nbformat": 4,
 "nbformat_minor": 5
}
